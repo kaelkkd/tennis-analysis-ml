{
 "cells": [
  {
   "cell_type": "code",
   "execution_count": null,
   "metadata": {},
   "outputs": [],
   "source": [
    "import pickle\n",
    "import pandas as pd\n",
    "import matplotlib.pyplot as plt"
   ]
  },
  {
   "cell_type": "code",
   "execution_count": null,
   "metadata": {},
   "outputs": [],
   "source": [
    "#Read de pickle\n",
    "with open('../tracker_stubs/ball_detections.pkl', 'rb') as f:\n",
    "    ballPositions = pickle.load(f)   "
   ]
  },
  {
   "cell_type": "code",
   "execution_count": null,
   "metadata": {},
   "outputs": [],
   "source": [
    "ballPositions = [x.get(1,[]) for x in ballPositions]\n",
    "# convert the list into pandas dataframe\n",
    "dfBallPositions = pd.DataFrame(ballPositions,columns=['x1','y1','x2','y2'])\n",
    "\n",
    "# interpolate the missing values\n",
    "dfBallPositions = dfBallPositions.interpolate()\n",
    "dfBallPositions = dfBallPositions.bfill()"
   ]
  },
  {
   "cell_type": "code",
   "execution_count": null,
   "metadata": {},
   "outputs": [],
   "source": [
    "dfBallPositions"
   ]
  },
  {
   "cell_type": "code",
   "execution_count": null,
   "metadata": {},
   "outputs": [],
   "source": [
    "dfBallPositions['mid_y'] = (dfBallPositions['y1'] + dfBallPositions['y2'])/2\n",
    "dfBallPositions['mid_y_rolling_mean'] = dfBallPositions['mid_y'].rolling(window=5, min_periods=1, center=False).mean()\n"
   ]
  },
  {
   "cell_type": "code",
   "execution_count": null,
   "metadata": {},
   "outputs": [],
   "source": [
    "#Plot\n",
    "plt.plot(dfBallPositions['mid_y_rolling_mean'])"
   ]
  },
  {
   "cell_type": "code",
   "execution_count": null,
   "metadata": {},
   "outputs": [],
   "source": [
    "dfBallPositions['delta_y'] = dfBallPositions['mid_y_rolling_mean'].diff()"
   ]
  },
  {
   "cell_type": "code",
   "execution_count": null,
   "metadata": {},
   "outputs": [],
   "source": [
    "plt.plot(dfBallPositions['delta_y'])"
   ]
  },
  {
   "cell_type": "code",
   "execution_count": null,
   "metadata": {},
   "outputs": [],
   "source": [
    "dfBallPositions['ball_hit'] = 0"
   ]
  },
  {
   "cell_type": "code",
   "execution_count": null,
   "metadata": {},
   "outputs": [],
   "source": [
    "minimumChangeFramesForHit = 25\n",
    "for i in range(1, len(dfBallPositions) - int(minimumChangeFramesForHit * 1.2)):\n",
    "    negativePositionChange = dfBallPositions['delta_y'].iloc[i] > 0 and dfBallPositions['delta_y'].iloc[i + 1] < 0\n",
    "    positivePositionChange = dfBallPositions['delta_y'].iloc[i] < 0 and dfBallPositions['delta_y'].iloc[i + 1] > 0\n",
    "\n",
    "    if negativePositionChange or positivePositionChange:\n",
    "        changeCount = 0\n",
    "        for changeFrame in range(i + 1, i + int(minimumChangeFramesForHit * 1.2) + 1):\n",
    "            negativePositionChangeFollowingFrame = dfBallPositions['delta_y'].iloc[i] > 0 and dfBallPositions['delta_y'].iloc[changeFrame] < 0\n",
    "            positivePositionChangeFollowingFrame = dfBallPositions['delta_y'].iloc[i] < 0 and dfBallPositions['delta_y'].iloc[changeFrame] > 0\n",
    "\n",
    "            if negativePositionChange and negativePositionChangeFollowingFrame:\n",
    "                changeCount += 1\n",
    "            elif positivePositionChange and positivePositionChangeFollowingFrame:\n",
    "                changeCount += 1\n",
    "    \n",
    "        if changeCount > minimumChangeFramesForHit - 1:\n",
    "            dfBallPositions['ball_hit'].iloc[i] = 1\n",
    "\n",
    "frameNumsWithBallHits = dfBallPositions[dfBallPositions['ball_hit'] == 1].index.tolist()\n"
   ]
  },
  {
   "cell_type": "code",
   "execution_count": null,
   "metadata": {},
   "outputs": [],
   "source": [
    "dfBallPositions[dfBallPositions['ball_hit'] == 1]\n",
    "#frames where the ball is hit"
   ]
  },
  {
   "cell_type": "code",
   "execution_count": null,
   "metadata": {},
   "outputs": [],
   "source": []
  }
 ],
 "metadata": {
  "kernelspec": {
   "display_name": ".venv",
   "language": "python",
   "name": "python3"
  },
  "language_info": {
   "codemirror_mode": {
    "name": "ipython",
    "version": 3
   },
   "file_extension": ".py",
   "mimetype": "text/x-python",
   "name": "python",
   "nbconvert_exporter": "python",
   "pygments_lexer": "ipython3",
   "version": "3.11.2"
  }
 },
 "nbformat": 4,
 "nbformat_minor": 2
}
